{
 "cells": [
  {
   "cell_type": "code",
   "execution_count": 1,
   "id": "18bd704d-c7bc-4c7c-9c40-737e4cc39c3b",
   "metadata": {},
   "outputs": [],
   "source": [
    "import pandas as pd\n",
    "import numpy as np\n",
    "\n",
    "import matplotlib.pyplot as plt"
   ]
  },
  {
   "cell_type": "code",
   "execution_count": 2,
   "id": "84c88aff-bf89-43c8-9ae7-35f8da863b03",
   "metadata": {},
   "outputs": [],
   "source": [
    "from sklearn.feature_extraction import DictVectorizer\n",
    "from sklearn.linear_model import LogisticRegression\n",
    "\n",
    "import pickle #Question3"
   ]
  },
  {
   "cell_type": "code",
   "execution_count": 3,
   "id": "8a25231e-4473-4e2e-9321-873a10400128",
   "metadata": {},
   "outputs": [
    {
     "name": "stdout",
     "output_type": "stream",
     "text": [
      "\u001b[1mpipenv\u001b[0m, version 2022.10.9\n",
      "\u001b[0m"
     ]
    }
   ],
   "source": [
    "# Question 1\n",
    "\n",
    "#Install Pipenv\n",
    "#What's the version of pipenv you installed?\n",
    "#Use --version to find out\n",
    "\n",
    "# NB: I added pipenv to $PATH after the installation, otherwise it gave me \"command not found\". Source: https://koenwoortman.com/python-pipenv-command-not-found/\n",
    "\n",
    "#! python --version\n",
    "#! pip --version\n",
    "#! pip install --user pipenv\n",
    "pipenv --version\n",
    "# pipenv, version 2022.10.9"
   ]
  },
  {
   "cell_type": "code",
   "execution_count": 10,
   "id": "3c404e6e-e7c9-476d-b155-ee4c09e41404",
   "metadata": {},
   "outputs": [
    {
     "name": "stdout",
     "output_type": "stream",
     "text": [
      "/bin/bash: riga 1: source: sklearn-venv: è una directory\n",
      "\u001b[32m\u001b[1mInstalling scikit-learn==1.0.2...\u001b[0m\n",
      "\u001b[K\u001b[1mAdding\u001b[0m \u001b[32m\u001b[1mscikit-learn\u001b[0m \u001b[1mto Pipfile's\u001b[0m \u001b[33m\u001b[1m[packages]\u001b[0m\u001b[1m...\u001b[0m\n",
      "\u001b[K\u001b[?25h✔ Installation Succeeded\u001b[0m \n",
      "\u001b[33m\u001b[1mPipfile.lock (6f5432) out of date, updating to (318099)...\u001b[0m\n",
      "Locking\u001b[0m \u001b[33m[packages]\u001b[0m dependencies...\u001b[0m\n",
      "\u001b[KBuilding requirements...\n",
      "\u001b[KResolving dependencies...\n",
      "\u001b[K\u001b[?25h\u001b[32m\u001b[22m✔ Success!\u001b[39m\u001b[22m\u001b[0m \n",
      "Locking\u001b[0m \u001b[33m[dev-packages]\u001b[0m dependencies...\u001b[0m\n",
      "\u001b[1mUpdated Pipfile.lock (ceeddd812b1d235750e064b323a1270b3505e56f3a9357c569fd3757db6f5432)!\u001b[0m\n",
      "\u001b[1mInstalling dependencies from Pipfile.lock (6f5432)...\u001b[0m\n",
      "To activate this project's virtualenv, run \u001b[33mpipenv shell\u001b[0m.\n",
      "Alternatively, run a command inside the virtualenv with \u001b[33mpipenv run\u001b[0m.\n",
      "\u001b[0m        \"scikit-learn\": {\n",
      "            \"hashes\": [\n",
      "                \"sha256:08ef968f6b72033c16c479c966bf37ccd49b06ea91b765e1cc27afefe723920b\",\n"
     ]
    }
   ],
   "source": [
    "# Question 2\n",
    "#Use Pipenv to install Scikit-Learn version 1.0.2\n",
    "#What's the first hash for scikit-learn you get in Pipfile.lock?\n",
    "\n",
    "# Source: https://scikit-learn.org/stable/install.html\n",
    "\n",
    "! source sklearn-venv activate\n",
    "! pipenv install scikit-learn==1.0.2\n",
    "# ! pipenv lock\n",
    "! grep scikit-learn Pipfile.lock -A 2\n"
   ]
  },
  {
   "cell_type": "code",
   "execution_count": 11,
   "id": "57761864-3112-4279-8462-537321e177c3",
   "metadata": {},
   "outputs": [],
   "source": [
    "df = pd.read_csv( \"../4/AER_credit_card_data.csv\" )"
   ]
  },
  {
   "cell_type": "code",
   "execution_count": null,
   "id": "eebb14e9-3144-4871-9cad-c43d4c09b6ef",
   "metadata": {},
   "outputs": [],
   "source": [
    "#Models\n",
    "#We've prepared a dictionary vectorizer and a model.\n",
    "\n",
    "#!PREFIX=https://raw.githubusercontent.com/alexeygrigorev/mlbookcamp-code/master/course-zoomcamp/cohorts/2022/05-deployment/homework\n",
    "#!wget $PREFIX/model1.bin\n",
    "#!wget $PREFIX/dv.bin"
   ]
  },
  {
   "cell_type": "code",
   "execution_count": 12,
   "id": "10e4082f-3c1e-43e5-b353-7cc6793e474a",
   "metadata": {},
   "outputs": [
    {
     "name": "stdout",
     "output_type": "stream",
     "text": [
      "Question 3: Probability of getting a credit card:\n",
      "0.16213414434326598\n"
     ]
    },
    {
     "name": "stderr",
     "output_type": "stream",
     "text": [
      "/home/andrea/anaconda3/lib/python3.9/site-packages/sklearn/base.py:329: UserWarning: Trying to unpickle estimator DictVectorizer from version 1.0.2 when using version 1.1.2. This might lead to breaking code or invalid results. Use at your own risk. For more info please refer to:\n",
      "https://scikit-learn.org/stable/model_persistence.html#security-maintainability-limitations\n",
      "  warnings.warn(\n",
      "/home/andrea/anaconda3/lib/python3.9/site-packages/sklearn/base.py:329: UserWarning: Trying to unpickle estimator LogisticRegression from version 1.0.2 when using version 1.1.2. This might lead to breaking code or invalid results. Use at your own risk. For more info please refer to:\n",
      "https://scikit-learn.org/stable/model_persistence.html#security-maintainability-limitations\n",
      "  warnings.warn(\n"
     ]
    }
   ],
   "source": [
    "# Question 3\n",
    "# Let's use these models!\n",
    "\n",
    "# Write a script for loading these models with pickle\n",
    "#Score this client:\n",
    "# {\"reports\": 0, \"share\": 0.001694, \"expenditure\": 0.12, \"owner\": \"yes\"}\n",
    "# What's the probability that this client will get a credit card?\n",
    "\n",
    "def load(filename):\n",
    "    with open(filename, 'rb') as f_in:\n",
    "        return pickle.load(f_in)\n",
    "\n",
    "dv = load('howework_files/dv.bin')\n",
    "model = load('howework_files/model1.bin')\n",
    "\n",
    "customer = {\"reports\": 0, \"share\": 0.001694, \"expenditure\": 0.12, \"owner\": \"yes\"}\n",
    "\n",
    "X = dv.transform([customer])\n",
    "y_pred = model.predict_proba(X)[0, 1]\n",
    "\n",
    "print(\"Question 3: Probability of getting a credit card:\")\n",
    "print(y_pred)\n"
   ]
  },
  {
   "cell_type": "code",
   "execution_count": null,
   "id": "d7cb413c-8f3d-4dc1-a169-b1bdaefeb09a",
   "metadata": {},
   "outputs": [],
   "source": [
    "# Question 4\n",
    "#Now let's serve this model as a web service\n",
    "\n",
    "#Install Flask and gunicorn (or waitress, if you're on Windows)\n",
    "! pipenv install flask\n",
    "! pipenv install gunicorn\n",
    "\n",
    "#Write Flask code for serving the model\n",
    "#Now score this client using requests:\n",
    "#url = \"YOUR_URL\"\n",
    "#client = {\"reports\": 0, \"share\": 0.245, \"expenditure\": 3.438, \"owner\": \"yes\"}\n",
    "#requests.post(url, json=client).json()\n",
    "\n",
    "# From an external terminal:\n",
    "#    python predict.py -> to run the server\n",
    "#    python test.py    -> to test the client\n",
    "\n",
    "# Response: 0.928"
   ]
  },
  {
   "cell_type": "code",
   "execution_count": null,
   "id": "c1b809c7-d85a-47c1-806e-d6b1731ee7a1",
   "metadata": {},
   "outputs": [],
   "source": [
    "# Question 5 \n",
    "# So what's the size of this base image?\n",
    "\n",
    "# sudo docker images\n",
    "# svizor/zoomcamp-model   3.9.12-slim   571a6fdc554b   3 days ago   125MB"
   ]
  },
  {
   "cell_type": "code",
   "execution_count": 13,
   "id": "8ec8830d-0f3d-4d08-8a8e-06a3fc6e0b5a",
   "metadata": {},
   "outputs": [
    {
     "name": "stdout",
     "output_type": "stream",
     "text": [
      "{'card_probability': 0.7692649226628628}\n"
     ]
    }
   ],
   "source": [
    "# Question 6\n",
    "#! pipenv lock \n",
    "! python q6_test.py"
   ]
  },
  {
   "cell_type": "code",
   "execution_count": null,
   "id": "c6979d94-0190-4b0c-8691-7dd04792ccd0",
   "metadata": {},
   "outputs": [],
   "source": []
  }
 ],
 "metadata": {
  "kernelspec": {
   "display_name": "Python 3 (ipykernel)",
   "language": "python",
   "name": "python3"
  },
  "language_info": {
   "codemirror_mode": {
    "name": "ipython",
    "version": 3
   },
   "file_extension": ".py",
   "mimetype": "text/x-python",
   "name": "python",
   "nbconvert_exporter": "python",
   "pygments_lexer": "ipython3",
   "version": "3.9.12"
  }
 },
 "nbformat": 4,
 "nbformat_minor": 5
}
